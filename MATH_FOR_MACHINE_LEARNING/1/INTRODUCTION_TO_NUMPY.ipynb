{
 "cells": [
  {
   "cell_type": "code",
   "execution_count": 1,
   "id": "1c44ebbd-5cea-4d85-9507-b2528409f86c",
   "metadata": {},
   "outputs": [
    {
     "name": "stdout",
     "output_type": "stream",
     "text": [
      "Defaulting to user installation because normal site-packages is not writeable\n",
      "Requirement already satisfied: numpy in /home/tanvir/.local/lib/python3.10/site-packages (1.26.0)\n"
     ]
    }
   ],
   "source": [
    "!pip install numpy"
   ]
  },
  {
   "cell_type": "code",
   "execution_count": 2,
   "id": "5eae9076-1eff-4d14-b17e-1d7e177a4426",
   "metadata": {},
   "outputs": [
    {
     "data": {
      "text/plain": [
       "array([10, 12])"
      ]
     },
     "execution_count": 2,
     "metadata": {},
     "output_type": "execute_result"
    }
   ],
   "source": [
    "import numpy as np\n",
    "one_dimensional_array = np.array([10,12])\n",
    "one_dimensional_array"
   ]
  },
  {
   "cell_type": "code",
   "execution_count": 5,
   "id": "8b9a69e5-9840-4f65-a8a3-f4a77598dd2d",
   "metadata": {},
   "outputs": [
    {
     "name": "stdout",
     "output_type": "stream",
     "text": [
      "[1 2 3]\n",
      "[0 1 2]\n"
     ]
    }
   ],
   "source": [
    "## create numpy array\n",
    "a = np.array([1,2,3])\n",
    "print(a)\n",
    "## create 3 integer starting from 0\n",
    "b = np.arange(3)\n",
    "print(b)"
   ]
  },
  {
   "cell_type": "code",
   "execution_count": 6,
   "id": "aaeb136a-6927-4808-a9ee-e9d968ac2750",
   "metadata": {},
   "outputs": [
    {
     "name": "stdout",
     "output_type": "stream",
     "text": [
      "[ 1  4  7 10 13 16 19]\n"
     ]
    }
   ],
   "source": [
    "### create an aray that starts from integer 1 , ands with 20 and incremented with 3\n",
    "start = 1\n",
    "end   = 20\n",
    "increment = 3\n",
    "c = np.arange(start,end,increment)\n",
    "print(c)"
   ]
  },
  {
   "cell_type": "code",
   "execution_count": 7,
   "id": "27e749b2-9fe3-4832-b8a5-4f2b99b5745a",
   "metadata": {},
   "outputs": [
    {
     "name": "stdout",
     "output_type": "stream",
     "text": [
      "[main fbe150d] added\n",
      " 3 files changed, 128 insertions(+)\n",
      " create mode 100644 MATH_FOR_MACHINE_LEARNING/1/.ipynb_checkpoints/INTRODUCTION_TO_NUMPY-checkpoint.ipynb\n",
      " create mode 100644 MATH_FOR_MACHINE_LEARNING/1/INTRODUCTION_TO_NUMPY.ipynb\n",
      " create mode 100644 MATH_FOR_MACHINE_LEARNING/1/screencapture-coursera-org-learn-machine-learning-linear-algebra-quiz-KupQT-solving-systems-of-linear-equations-attempt-2023-10-13-04_36_59.pdf\n",
      "Enumerating objects: 9, done.\n",
      "Counting objects: 100% (9/9), done.\n",
      "Delta compression using up to 4 threads\n",
      "Compressing objects: 100% (7/7), done.\n",
      "Writing objects: 100% (8/8), 788.49 KiB | 2.89 MiB/s, done.\n",
      "Total 8 (delta 1), reused 1 (delta 0), pack-reused 0\n",
      "remote: Resolving deltas: 100% (1/1), completed with 1 local object.\u001b[K\n",
      "To github.com:tanviredu/BlockChain.git\n",
      "   60c6831..fbe150d  main -> main\n"
     ]
    }
   ],
   "source": [
    "!git add .;git commit -m \"added\";git push;"
   ]
  },
  {
   "cell_type": "code",
   "execution_count": null,
   "id": "5302f893-2f50-4093-a890-2ead1badf828",
   "metadata": {},
   "outputs": [],
   "source": []
  }
 ],
 "metadata": {
  "kernelspec": {
   "display_name": "Python 3 (ipykernel)",
   "language": "python",
   "name": "python3"
  },
  "language_info": {
   "codemirror_mode": {
    "name": "ipython",
    "version": 3
   },
   "file_extension": ".py",
   "mimetype": "text/x-python",
   "name": "python",
   "nbconvert_exporter": "python",
   "pygments_lexer": "ipython3",
   "version": "3.10.12"
  }
 },
 "nbformat": 4,
 "nbformat_minor": 5
}
